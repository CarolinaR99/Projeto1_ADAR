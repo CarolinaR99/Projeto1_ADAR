{
  "nbformat": 4,
  "nbformat_minor": 0,
  "metadata": {
    "colab": {
      "name": "Aula2 - ParseEDFAndTXTToCSV.ipynb",
      "provenance": [],
      "collapsed_sections": [],
      "include_colab_link": true
    },
    "kernelspec": {
      "display_name": "Python 3",
      "name": "python3"
    }
  },
  "cells": [
    {
      "cell_type": "markdown",
      "metadata": {
        "id": "view-in-github",
        "colab_type": "text"
      },
      "source": [
        "<a href=\"https://colab.research.google.com/github/CarolinaR99/Projeto1_ADAR/blob/main/Sleep%20Project.ipynb\" target=\"_parent\"><img src=\"https://colab.research.google.com/assets/colab-badge.svg\" alt=\"Open In Colab\"/></a>"
      ]
    },
    {
      "cell_type": "markdown",
      "metadata": {
        "id": "cKliV6qJKfkS"
      },
      "source": [
        "## Parse EDF and .txt with annotations to a CSV file "
      ]
    },
    {
      "cell_type": "code",
      "metadata": {
        "id": "pCP1DqdDKd54",
        "colab": {
          "base_uri": "https://localhost:8080/"
        },
        "cellView": "form",
        "outputId": "36039401-cc58-41d2-afde-9e272e3789e4"
      },
      "source": [
        "#@title\n",
        "import os\n",
        "import numpy as np\n",
        "import pandas as pd\n",
        "import urllib.request\n",
        "from datetime import datetime\n",
        "!pip install mne\n",
        "import mne\n",
        "\n",
        "def to_timestamp(x: str, acq_time: datetime):\n",
        "    date = datetime.strptime(x, '%H:%M:%S')\n",
        "    date = datetime(acq_time.year, acq_time.month, acq_time.day, date.hour, date.minute, date.second)\n",
        "    if date.hour < 12:\n",
        "        date = datetime(date.year, date.month, date.day + 1, date.hour, date.minute, date.second)\n",
        "    return (date.day - acq_time.day) * 24 * 3600 + (date.hour - acq_time.hour) * 3600 + (\n",
        "                date.minute - acq_time.minute) * 60 + date.second - acq_time.second\n",
        "\n",
        "\n",
        "def subsample(data: np.ndarray, fs: int, fs_new: int, axis=0):\n",
        "    assert fs % fs_new == 0\n",
        "    factor = int(fs / fs_new)\n",
        "    if data.shape[axis] % factor != 0:\n",
        "        print('Subsampling led to loss of %i samples, in an online setting consider using a BlockBuffer with a '\n",
        "              'buffer size of a multiple of %i samples.' % (data.shape[axis] % factor, factor))\n",
        "    idx_mask = np.arange(data.shape[axis], step=factor)\n",
        "    return data.take(idx_mask, axis)\n",
        "\n",
        "\n",
        "def read_annotation_file(path_filename: str, acq_time: datetime):\n",
        "    df_annotations_data = pd.read_csv(path_filename, sep='\\t', skiprows=20)\n",
        "    df_annotations_data = df_annotations_data.loc[df_annotations_data[\"Event\"].str.startswith(\"SLEEP\")]\n",
        "    df_annotations_data = df_annotations_data.rename(columns={\"Time [hh:mm:ss]\": \"onset\", \"Duration[s]\": \"duration\"})\n",
        "    df_annotations_data[\"timestamp\"] = df_annotations_data.onset.apply(lambda x: to_timestamp(x, acq_time))\n",
        "\n",
        "    return df_annotations_data\n",
        "\n",
        "\n",
        "def merge_data_file_and_annotations(data, df_annotations, fs_new):\n",
        "    raw_data = data.get_data()\n",
        "    fs = int(data.info[\"sfreq\"])\n",
        "    df = pd.DataFrame(raw_data.T, columns=data.info.ch_names)\n",
        "    df[\"times\"] = data.times\n",
        "    df = pd.DataFrame(data=subsample(df.to_numpy(), fs, fs_new), columns=df.columns)\n",
        "    \n",
        "    labels = [np.nan] * df.shape[0]\n",
        "    for i in range(df_annotations.shape[0] - 1):\n",
        "        row_start = df_annotations.iloc[i]\n",
        "        row_end = df_annotations.iloc[i + 1]\n",
        "        start_pos = row_start.timestamp * fs_new\n",
        "        end_pos = row_end.timestamp * fs_new\n",
        "        if start_pos < len(labels):\n",
        "            labels[start_pos:end_pos] = [row_start[\"Sleep Stage\"]]*(end_pos-start_pos)\n",
        "    \n",
        "    df[\"sleepstage\"] = labels\n",
        "    df = df.dropna()\n",
        "    \n",
        "    return df\n"
      ],
      "execution_count": 1,
      "outputs": [
        {
          "output_type": "stream",
          "text": [
            "Requirement already satisfied: mne in /usr/local/lib/python3.7/dist-packages (0.22.0)\n",
            "Requirement already satisfied: scipy>=0.17.1 in /usr/local/lib/python3.7/dist-packages (from mne) (1.4.1)\n",
            "Requirement already satisfied: numpy>=1.11.3 in /usr/local/lib/python3.7/dist-packages (from mne) (1.19.5)\n"
          ],
          "name": "stdout"
        }
      ]
    },
    {
      "cell_type": "code",
      "metadata": {
        "colab": {
          "base_uri": "https://localhost:8080/",
          "height": 367
        },
        "id": "EjOVoTo9Lyr9",
        "outputId": "a4cf6321-a7e3-4191-a3dc-e3e475bfec12"
      },
      "source": [
        "# Subject ID\n",
        "subject_name = 'n1'\n",
        "# New frequency\n",
        "fs_new = 128\n",
        "# CSV Filename\n",
        "new_filename = f'{subject_name}_data_and_annotations.csv'\n",
        "              \n",
        "data_filename = f'{subject_name}.edf'\n",
        "filename_annotations = f'{subject_name}_annotations.txt'\n",
        "url_data = f'https://physionet.org/files/capslpdb/1.0.0/{subject_name}.edf?download'\n",
        "url_annotations = f'https://physionet.org/files/capslpdb/1.0.0/{subject_name}.txt?download'\n",
        "\n",
        "print(f'Downloading data file: {url_data}')\n",
        "urllib.request.urlretrieve(url_data, data_filename)\n",
        "\n",
        "print(f'Downloading annotations data file: {url_annotations}')\n",
        "urllib.request.urlretrieve(url_annotations, filename_annotations)\n",
        "\n",
        "\n",
        "print(f'Loading File: {data_filename}')\n",
        "data_polysomnography = mne.io.read_raw_edf(data_filename)\n",
        "\n",
        "print(f'Loading Annotations file: {filename_annotations}')\n",
        "df_annotations_polysomnography = read_annotation_file(filename_annotations, data_polysomnography.info[\"meas_date\"])\n",
        "\n",
        "print(\"\\n\\n Example Annotations file: \\n\")\n",
        "df_annotations_polysomnography.head(4)"
      ],
      "execution_count": 2,
      "outputs": [
        {
          "output_type": "stream",
          "text": [
            "Downloading data file: https://physionet.org/files/capslpdb/1.0.0/n1.edf?download\n",
            "Downloading annotations data file: https://physionet.org/files/capslpdb/1.0.0/n1.txt?download\n",
            "Loading File: n1.edf\n",
            "Extracting EDF parameters from /content/n1.edf...\n",
            "EDF file detected\n",
            "Setting channel info structure...\n",
            "Creating raw.info structure...\n",
            "Loading Annotations file: n1_annotations.txt\n",
            "\n",
            "\n",
            " Example Annotations file: \n",
            "\n"
          ],
          "name": "stdout"
        },
        {
          "output_type": "execute_result",
          "data": {
            "text/html": [
              "<div>\n",
              "<style scoped>\n",
              "    .dataframe tbody tr th:only-of-type {\n",
              "        vertical-align: middle;\n",
              "    }\n",
              "\n",
              "    .dataframe tbody tr th {\n",
              "        vertical-align: top;\n",
              "    }\n",
              "\n",
              "    .dataframe thead th {\n",
              "        text-align: right;\n",
              "    }\n",
              "</style>\n",
              "<table border=\"1\" class=\"dataframe\">\n",
              "  <thead>\n",
              "    <tr style=\"text-align: right;\">\n",
              "      <th></th>\n",
              "      <th>Sleep Stage</th>\n",
              "      <th>Position</th>\n",
              "      <th>onset</th>\n",
              "      <th>Event</th>\n",
              "      <th>duration</th>\n",
              "      <th>Location</th>\n",
              "      <th>timestamp</th>\n",
              "    </tr>\n",
              "  </thead>\n",
              "  <tbody>\n",
              "    <tr>\n",
              "      <th>0</th>\n",
              "      <td>W</td>\n",
              "      <td>Unknown Position</td>\n",
              "      <td>22:09:33</td>\n",
              "      <td>SLEEP-S0</td>\n",
              "      <td>30</td>\n",
              "      <td>ROC-LOC</td>\n",
              "      <td>210</td>\n",
              "    </tr>\n",
              "    <tr>\n",
              "      <th>1</th>\n",
              "      <td>W</td>\n",
              "      <td>Unknown Position</td>\n",
              "      <td>22:10:03</td>\n",
              "      <td>SLEEP-S0</td>\n",
              "      <td>30</td>\n",
              "      <td>ROC-LOC</td>\n",
              "      <td>240</td>\n",
              "    </tr>\n",
              "    <tr>\n",
              "      <th>2</th>\n",
              "      <td>W</td>\n",
              "      <td>Unknown Position</td>\n",
              "      <td>22:10:33</td>\n",
              "      <td>SLEEP-S0</td>\n",
              "      <td>30</td>\n",
              "      <td>ROC-LOC</td>\n",
              "      <td>270</td>\n",
              "    </tr>\n",
              "    <tr>\n",
              "      <th>3</th>\n",
              "      <td>W</td>\n",
              "      <td>Unknown Position</td>\n",
              "      <td>22:11:03</td>\n",
              "      <td>SLEEP-S0</td>\n",
              "      <td>30</td>\n",
              "      <td>ROC-LOC</td>\n",
              "      <td>300</td>\n",
              "    </tr>\n",
              "  </tbody>\n",
              "</table>\n",
              "</div>"
            ],
            "text/plain": [
              "  Sleep Stage          Position     onset  ... duration  Location timestamp\n",
              "0           W  Unknown Position  22:09:33  ...       30   ROC-LOC       210\n",
              "1           W  Unknown Position  22:10:03  ...       30   ROC-LOC       240\n",
              "2           W  Unknown Position  22:10:33  ...       30   ROC-LOC       270\n",
              "3           W  Unknown Position  22:11:03  ...       30   ROC-LOC       300\n",
              "\n",
              "[4 rows x 7 columns]"
            ]
          },
          "metadata": {
            "tags": []
          },
          "execution_count": 2
        }
      ]
    },
    {
      "cell_type": "code",
      "metadata": {
        "colab": {
          "base_uri": "https://localhost:8080/"
        },
        "id": "SeZZ8BVuH2OX",
        "outputId": "e82eabf3-ad56-4dcb-82ba-75acb8f26552"
      },
      "source": [
        "print(f'Merge files annotation and polysomnography data. Downsampling data from {data_polysomnography.info[\"sfreq\"]} to {fs_new} Hz')\n",
        "df_data = merge_data_file_and_annotations(data_polysomnography, df_annotations_polysomnography, fs_new)\n",
        "df_data.to_csv(new_filename, index=False)\n",
        "print(\"Data Merged\")\n",
        "df_data.head(4)"
      ],
      "execution_count": null,
      "outputs": [
        {
          "output_type": "stream",
          "text": [
            "Merge files annotation and polysomnography data. Downsampling data from 512.0 to 128 Hz\n"
          ],
          "name": "stdout"
        }
      ]
    },
    {
      "cell_type": "code",
      "metadata": {
        "id": "an8qXUlOYur1"
      },
      "source": [
        "import matplotlib.pyplot as plt\n",
        "_ = plt.plot(df_data.times/3600, df_data.sleepstage)\n",
        "_ = plt.xlabel(\"Time (h)\")\n",
        "_ = plt.ylabel(\"Sleep Stage\")"
      ],
      "execution_count": null,
      "outputs": []
    },
    {
      "cell_type": "markdown",
      "metadata": {
        "id": "7i3LCJN_aW3H"
      },
      "source": [
        "## Load CSV"
      ]
    },
    {
      "cell_type": "code",
      "metadata": {
        "id": "_3CydTSnabMw"
      },
      "source": [
        "df = pd.read_csv(new_filename)\n",
        "df.head(4)"
      ],
      "execution_count": null,
      "outputs": []
    },
    {
      "cell_type": "code",
      "metadata": {
        "id": "8Gm6JOcFPuYf"
      },
      "source": [
        "#df.head(4)"
      ],
      "execution_count": null,
      "outputs": []
    },
    {
      "cell_type": "code",
      "metadata": {
        "id": "yOJzMeAWPSWk"
      },
      "source": [
        "plt.figure(figsize = (30,5))\r\n",
        "plt.plot(df[\"times\"], df[\"ROC-LOC\"])\r\n",
        "plt.plot(df[\"times\"], df[\"LOC-ROC\"])\r\n",
        "#plt.plot(df[\"times\"], df[\"sleepstage\"])"
      ],
      "execution_count": null,
      "outputs": []
    },
    {
      "cell_type": "code",
      "metadata": {
        "id": "UqaaeL4SGJjE"
      },
      "source": [
        "#sklearn.preprocessing.MinMaxScaler\r\n",
        "from sklearn.preprocessing import MinMaxScaler\r\n",
        "scaler = MinMaxScaler()\r\n",
        "\r\n",
        "\r\n",
        "new_df = df.iloc[:,:-2]\r\n",
        "new_df.head(4)\r\n",
        "print(scaler.fit(new_df))\r\n",
        "\r\n",
        "print(scaler.data_max_)\r\n",
        "df_norm = scaler.transform(new_df)\r\n",
        "df_norm = pd.DataFrame(df_norm)\r\n",
        "df_norm['times'] = df['times']\r\n",
        "df_norm['sleepstage'] = df['sleepstage']\r\n",
        "df_norm.head(4)"
      ],
      "execution_count": null,
      "outputs": []
    },
    {
      "cell_type": "code",
      "metadata": {
        "id": "tQiKHDJGMkc4"
      },
      "source": [
        "df_norm.columns = df.columns \r\n",
        "df_norm.head(4)"
      ],
      "execution_count": null,
      "outputs": []
    },
    {
      "cell_type": "code",
      "metadata": {
        "id": "uee1kmYxAoo_"
      },
      "source": [
        "columns_electrodes = [el for el in df.columns if el not in [\"ROC-LOC\",\"LOC-ROC\",\"times\", \"sleepstage\"]]\r\n",
        "columns_electrodes.head(4)"
      ],
      "execution_count": null,
      "outputs": []
    }
  ]
}